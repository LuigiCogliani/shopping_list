{
 "cells": [
  {
   "cell_type": "code",
   "execution_count": 1,
   "source": [
    "import streamlit as st\r\n",
    "import pandas as pd\r\n",
    "import smtplib\r\n",
    "\r\n",
    "\r\n",
    "\r\n",
    "df = pd.read_csv('df.csv')\r\n",
    "\r\n",
    "#filter = st.sidebar.multiselect('Choose recipies',df['name'].unique()) \r\n",
    "filter = []\r\n",
    "df_ = df[df['name'].isin(filter)]\r\n",
    "df_ = df.groupby('ing_name', as_index=False)['ing_q'].sum()\r\n",
    "\r\n",
    "text = df_.to_string(header=False,index=False,justify='left')\r\n",
    "\r\n",
    "\r\n",
    "#st.button('Send!',on_click=send_email(text))\r\n",
    "for line in text.splitlines():\r\n",
    "    print(line)\r\n",
    "\r\n",
    "\r\n",
    "\r\n"
   ],
   "outputs": [
    {
     "output_type": "stream",
     "name": "stderr",
     "text": [
      "2021-09-10 22:30:03.601 \n",
      "  \u001b[33m\u001b[1mWarning:\u001b[0m to view this Streamlit app on a browser, run it with the following\n",
      "  command:\n",
      "\n",
      "    streamlit run C:\\Users\\luigi\\AppData\\Local\\Programs\\Python\\Python39\\lib\\site-packages\\ipykernel_launcher.py [ARGUMENTS]\n"
     ]
    }
   ],
   "metadata": {}
  },
  {
   "cell_type": "code",
   "execution_count": null,
   "source": [],
   "outputs": [],
   "metadata": {}
  }
 ],
 "metadata": {
  "orig_nbformat": 4,
  "language_info": {
   "name": "python",
   "version": "3.9.6",
   "mimetype": "text/x-python",
   "codemirror_mode": {
    "name": "ipython",
    "version": 3
   },
   "pygments_lexer": "ipython3",
   "nbconvert_exporter": "python",
   "file_extension": ".py"
  },
  "kernelspec": {
   "name": "python3",
   "display_name": "Python 3.9.6 64-bit"
  },
  "interpreter": {
   "hash": "3f8380f0820665004a18464232eb6d826297f202842df5a8a96b515e25721c85"
  }
 },
 "nbformat": 4,
 "nbformat_minor": 2
}